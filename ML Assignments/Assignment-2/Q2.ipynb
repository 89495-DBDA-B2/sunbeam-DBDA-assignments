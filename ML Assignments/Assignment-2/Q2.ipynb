{
 "cells": [
  {
   "cell_type": "markdown",
   "id": "ee570ac5-87b3-4296-9fa2-177cfe297f4f",
   "metadata": {},
   "source": [
    "Que 2.\n",
    "The Newspaperdata.csv dataset contains information of nwespapers with their daily sales and sunday sales. \n",
    "We have to predict sunday sales of newspaper on the basis of daily sales of newspaper. \n",
    "For that build linear regression and polynomial regression models and evaluate the model by using evaluation metrics.\n",
    "\n"
   ]
  },
  {
   "cell_type": "code",
   "execution_count": 1,
   "id": "16ff686c-6d79-4da4-acd0-50826773804e",
   "metadata": {},
   "outputs": [],
   "source": [
    "import warnings \n",
    "warnings.filterwarnings(action='ignore')"
   ]
  },
  {
   "cell_type": "code",
   "execution_count": 15,
   "id": "f604576a-3d0b-4585-b7e3-4083cb880fc7",
   "metadata": {},
   "outputs": [],
   "source": [
    "# Import libraries\n",
    "import pandas as pd\n",
    "import numpy as np\n",
    "import matplotlib.pyplot as plt\n",
    "from sklearn.linear_model import LinearRegression\n",
    "from sklearn.preprocessing import PolynomialFeatures\n",
    "from sklearn.metrics import mean_squared_error, r2_score"
   ]
  },
  {
   "cell_type": "code",
   "execution_count": 16,
   "id": "5ffc454c-8fcf-4a31-9cd5-16f8cad0749d",
   "metadata": {},
   "outputs": [],
   "source": [
    "df=pd.read_csv(\"./dataset/NewspaperData.csv\")"
   ]
  },
  {
   "cell_type": "code",
   "execution_count": 17,
   "id": "2b7712f1-5531-4bc3-a87d-3f734a0f310e",
   "metadata": {},
   "outputs": [
    {
     "data": {
      "text/html": [
       "<div>\n",
       "<style scoped>\n",
       "    .dataframe tbody tr th:only-of-type {\n",
       "        vertical-align: middle;\n",
       "    }\n",
       "\n",
       "    .dataframe tbody tr th {\n",
       "        vertical-align: top;\n",
       "    }\n",
       "\n",
       "    .dataframe thead th {\n",
       "        text-align: right;\n",
       "    }\n",
       "</style>\n",
       "<table border=\"1\" class=\"dataframe\">\n",
       "  <thead>\n",
       "    <tr style=\"text-align: right;\">\n",
       "      <th></th>\n",
       "      <th>Newspaper</th>\n",
       "      <th>daily</th>\n",
       "      <th>sunday</th>\n",
       "    </tr>\n",
       "  </thead>\n",
       "  <tbody>\n",
       "    <tr>\n",
       "      <th>0</th>\n",
       "      <td>Baltimore Sun</td>\n",
       "      <td>391.952</td>\n",
       "      <td>488.506</td>\n",
       "    </tr>\n",
       "    <tr>\n",
       "      <th>1</th>\n",
       "      <td>Boston Globe</td>\n",
       "      <td>516.981</td>\n",
       "      <td>798.298</td>\n",
       "    </tr>\n",
       "    <tr>\n",
       "      <th>2</th>\n",
       "      <td>Boston Herald</td>\n",
       "      <td>355.628</td>\n",
       "      <td>235.084</td>\n",
       "    </tr>\n",
       "    <tr>\n",
       "      <th>3</th>\n",
       "      <td>Charlotte Observer</td>\n",
       "      <td>238.555</td>\n",
       "      <td>299.451</td>\n",
       "    </tr>\n",
       "    <tr>\n",
       "      <th>4</th>\n",
       "      <td>Chicago Sun Times</td>\n",
       "      <td>537.780</td>\n",
       "      <td>559.093</td>\n",
       "    </tr>\n",
       "  </tbody>\n",
       "</table>\n",
       "</div>"
      ],
      "text/plain": [
       "            Newspaper    daily   sunday\n",
       "0       Baltimore Sun  391.952  488.506\n",
       "1        Boston Globe  516.981  798.298\n",
       "2       Boston Herald  355.628  235.084\n",
       "3  Charlotte Observer  238.555  299.451\n",
       "4   Chicago Sun Times  537.780  559.093"
      ]
     },
     "execution_count": 17,
     "metadata": {},
     "output_type": "execute_result"
    }
   ],
   "source": [
    "df.head()"
   ]
  },
  {
   "cell_type": "code",
   "execution_count": 28,
   "id": "6d8900d4-894c-4aad-9402-9bd4c4c43017",
   "metadata": {},
   "outputs": [],
   "source": [
    "X = df[['daily']]\n",
    "y = df['sunday']"
   ]
  },
  {
   "cell_type": "code",
   "execution_count": 29,
   "id": "904808ab-8e9c-4d4e-868e-38af1012a591",
   "metadata": {},
   "outputs": [],
   "source": [
    "linear_model=LinearRegression()\n",
    "linear_model.fit(X,y)\n",
    "y_pred_linear=linear_model.predict(X)"
   ]
  },
  {
   "cell_type": "code",
   "execution_count": 30,
   "id": "7eb5bd82-38cd-45c6-a874-432bbdf692c2",
   "metadata": {},
   "outputs": [
    {
     "name": "stdout",
     "output_type": "stream",
     "text": [
      "\n",
      "Linear Regression Evaluation:\n",
      "Mean Squared Error: 11268.6920722415\n",
      "R² Score: 0.9180596895873295\n"
     ]
    }
   ],
   "source": [
    "# 4. Evaluations\n",
    "print(\"\\nLinear Regression Evaluation:\")\n",
    "print(\"Mean Squared Error:\", mean_squared_error(y, y_pred_linear))\n",
    "print(\"R² Score:\", r2_score(y, y_pred_linear))"
   ]
  },
  {
   "cell_type": "code",
   "execution_count": 31,
   "id": "8c4995d7-7069-49ff-b58f-2921ecd4e47d",
   "metadata": {},
   "outputs": [],
   "source": [
    "poly=PolynomialFeatures(degree=2)\n",
    "X_poly=poly.fit_transform(X)\n",
    "\n",
    "poly_model=LinearRegression()\n",
    "poly_model.fit(X_poly,y)\n",
    "y_pred_poly=poly_model.predict(X_poly)"
   ]
  },
  {
   "cell_type": "code",
   "execution_count": 32,
   "id": "9c4a52fc-be87-4586-ab20-b5fa8fc706e4",
   "metadata": {},
   "outputs": [
    {
     "name": "stdout",
     "output_type": "stream",
     "text": [
      "\n",
      "Polynomial Regression Evaluation:\n",
      "Mean Squared Error: 10954.293251552042\n",
      "R² Score: 0.9203458410586375\n"
     ]
    }
   ],
   "source": [
    "print(\"\\nPolynomial Regression Evaluation:\")\n",
    "print(\"Mean Squared Error:\", mean_squared_error(y, y_pred_poly))\n",
    "print(\"R² Score:\", r2_score(y, y_pred_poly))\n"
   ]
  },
  {
   "cell_type": "code",
   "execution_count": 34,
   "id": "22f3b6f2-7681-4fc1-a7ae-6fa63d1fe904",
   "metadata": {},
   "outputs": [
    {
     "data": {
      "image/png": "[encoded data removed]",
      "text/plain": [
       "<Figure size 640x480 with 1 Axes>"
      ]
     },
     "metadata": {},
     "output_type": "display_data"
    }
   ],
   "source": [
    "plt.scatter(X,y,color='blue',label='Actual')\n",
    "\n",
    "sorted_zip=sorted(zip(X['daily'],y_pred_poly))\n",
    "X_sorted,y_poly_sorted=zip(*sorted_zip)\n",
    "\n",
    "plt.plot(X_sorted,y_poly_sorted,color='red')\n",
    "\n",
    "label='polynomial Prediction'\n",
    "plt.xlabel('Daily Sale')\n",
    "plt.ylabel('sunday sale')\n",
    "plt.legend()\n",
    "plt.title('Polynomial Regression')\n",
    "plt.show()\n"
   ]
  },
  {
   "cell_type": "code",
   "execution_count": null,
   "id": "4d13009a-1376-4fa5-bcbb-54d07254fdd4",
   "metadata": {},
   "outputs": [],
   "source": []
  }
 ],
 "metadata": {
  "kernelspec": {
   "display_name": "Python 3 (ipykernel)",
   "language": "python",
   "name": "python3"
  },
  "language_info": {
   "codemirror_mode": {
    "name": "ipython",
    "version": 3
   },
   "file_extension": ".py",
   "mimetype": "text/x-python",
   "name": "python",
   "nbconvert_exporter": "python",
   "pygments_lexer": "ipython3",
   "version": "3.13.2"
  }
 },
 "nbformat": 4,
 "nbformat_minor": 5
}
