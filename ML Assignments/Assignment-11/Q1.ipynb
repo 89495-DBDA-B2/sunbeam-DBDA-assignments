{
 "cells": [
  {
   "cell_type": "markdown",
   "id": "30bb51b6-0925-4a98-87fd-d93ed6e9d271",
   "metadata": {},
   "source": [
    "Que \n",
    "Predict the energy_production for energy_production.csv data.\n",
    "for importing dataset use df=pd.read_csv(\".csv file\",sep=';'). "
   ]
  },
  {
   "cell_type": "code",
   "execution_count": 4,
   "id": "0bfffe49-ee56-4f16-96f4-cb96fb35e701",
   "metadata": {},
   "outputs": [],
   "source": [
    "import warnings \n",
    "warnings.filterwarnings(action=\"ignore\")"
   ]
  },
  {
   "cell_type": "code",
   "execution_count": 6,
   "id": "8e263c1d-7f85-403d-8790-641efea8636d",
   "metadata": {},
   "outputs": [
    {
     "name": "stdout",
     "output_type": "stream",
     "text": [
      "2001-02-02 16:00:00    454.813091\n",
      "2001-02-02 17:00:00    454.815327\n",
      "2001-02-02 18:00:00    454.815340\n",
      "2001-02-02 19:00:00    454.815340\n",
      "2001-02-02 20:00:00    454.815340\n",
      "2001-02-02 21:00:00    454.815340\n",
      "2001-02-02 22:00:00    454.815340\n",
      "2001-02-02 23:00:00    454.815340\n",
      "2001-02-03 00:00:00    454.815340\n",
      "2001-02-03 01:00:00    454.815340\n",
      "2001-02-03 02:00:00    454.815340\n",
      "2001-02-03 03:00:00    454.815340\n",
      "2001-02-03 04:00:00    454.815340\n",
      "2001-02-03 05:00:00    454.815340\n",
      "2001-02-03 06:00:00    454.815340\n",
      "2001-02-03 07:00:00    454.815340\n",
      "2001-02-03 08:00:00    454.815340\n",
      "2001-02-03 09:00:00    454.815340\n",
      "2001-02-03 10:00:00    454.815340\n",
      "2001-02-03 11:00:00    454.815340\n",
      "2001-02-03 12:00:00    454.815340\n",
      "2001-02-03 13:00:00    454.815340\n",
      "2001-02-03 14:00:00    454.815340\n",
      "2001-02-03 15:00:00    454.815340\n",
      "2001-02-03 16:00:00    454.815340\n",
      "2001-02-03 17:00:00    454.815340\n",
      "2001-02-03 18:00:00    454.815340\n",
      "2001-02-03 19:00:00    454.815340\n",
      "2001-02-03 20:00:00    454.815340\n",
      "2001-02-03 21:00:00    454.815340\n",
      "Freq: h, Name: predicted_mean, dtype: float64\n"
     ]
    }
   ],
   "source": [
    "import pandas as pd\n",
    "import statsmodels.api as sm\n",
    "\n",
    "# Load dataset\n",
    "df = pd.read_csv('./dataset/energy_production.csv', sep=';')\n",
    "\n",
    "# Only keep 'energy_production' for ARIMA\n",
    "df['Date'] = pd.date_range(start='1/1/2000', periods=len(df), freq='H')  # Create a fake date if Date is missing\n",
    "df.set_index('Date', inplace=True)\n",
    "\n",
    "# Build and fit ARIMA model\n",
    "model = sm.tsa.ARIMA(df['energy_production'], order=(1,1,1))\n",
    "model_fit = model.fit()\n",
    "\n",
    "# Predict next 30 values\n",
    "forecast = model_fit.predict(start=len(df), end=len(df)+29, typ='levels')\n",
    "print(forecast)\n"
   ]
  },
  {
   "cell_type": "code",
   "execution_count": null,
   "id": "9429945d-e740-4213-8a16-b76480ae2a73",
   "metadata": {},
   "outputs": [],
   "source": []
  }
 ],
 "metadata": {
  "kernelspec": {
   "display_name": "Python 3 (ipykernel)",
   "language": "python",
   "name": "python3"
  },
  "language_info": {
   "codemirror_mode": {
    "name": "ipython",
    "version": 3
   },
   "file_extension": ".py",
   "mimetype": "text/x-python",
   "name": "python",
   "nbconvert_exporter": "python",
   "pygments_lexer": "ipython3",
   "version": "3.13.2"
  }
 },
 "nbformat": 4,
 "nbformat_minor": 5
}
