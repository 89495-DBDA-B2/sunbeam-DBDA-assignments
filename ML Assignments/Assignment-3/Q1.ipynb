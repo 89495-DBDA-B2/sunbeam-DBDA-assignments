{
 "cells": [
  {
   "cell_type": "markdown",
   "id": "f9776ee9-21a8-41ea-833d-04683c2c5637",
   "metadata": {},
   "source": [
    "Que1.-\n",
    "Predict if a person would buy life insurance based on his age using logistic regression.\n",
    "About Dataset - Age: Age of a person\n",
    "bought_insurance : whether person buys Insurance or not (0 - No, 1 - Yes)\n",
    "predict it for Age : 58,30,20,49,53\n",
    "\n",
    "Dataset : insurance_data.csv\n",
    "\n",
    "Calculate Accuracy by confusion matrix, Calculate accuracy score, precision score, recall score,f1 score, roc auc score. \n",
    "Also Visualize the result. Also select best parameters using gridsearchCV. \n"
   ]
  },
  {
   "cell_type": "code",
   "execution_count": null,
   "id": "a5d60a84-04d9-4198-bbe0-bbda2a2bce73",
   "metadata": {},
   "outputs": [],
   "source": []
  }
 ],
 "metadata": {
  "kernelspec": {
   "display_name": "Python 3 (ipykernel)",
   "language": "python",
   "name": "python3"
  },
  "language_info": {
   "codemirror_mode": {
    "name": "ipython",
    "version": 3
   },
   "file_extension": ".py",
   "mimetype": "text/x-python",
   "name": "python",
   "nbconvert_exporter": "python",
   "pygments_lexer": "ipython3",
   "version": "3.13.2"
  }
 },
 "nbformat": 4,
 "nbformat_minor": 5
}
