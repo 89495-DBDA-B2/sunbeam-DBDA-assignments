{
 "cells": [
  {
   "cell_type": "markdown",
   "id": "128090ed-730a-471f-911e-0ed9d5976f2e",
   "metadata": {},
   "source": [
    "Que 3.\n",
    "The SAT-GPA dataset contains information of SAT and GPA scores. \n",
    "We have to predict GPA score on the basis of SAT score by using Linear Regression and Polynomial Regression model. \n",
    "Also evaluate the model by using evaluation metrics."
   ]
  },
  {
   "cell_type": "code",
   "execution_count": 25,
   "id": "18654c31-0a74-4429-b79c-a5b074a16a6e",
   "metadata": {},
   "outputs": [],
   "source": [
    "import warnings\n",
    "warnings.filterwarnings(action='ignore')"
   ]
  },
  {
   "cell_type": "code",
   "execution_count": 26,
   "id": "46975523-da49-44bf-a146-0d30cbc3aa58",
   "metadata": {},
   "outputs": [],
   "source": [
    "import pandas as pd\n",
    "import numpy as np\n",
    "from sklearn.linear_model import LinearRegression\n",
    "from sklearn.preprocessing import PolynomialFeatures\n",
    "from sklearn.metrics import mean_squared_error,r2_score\n",
    "import matplotlib.pyplot as plt\n"
   ]
  },
  {
   "cell_type": "code",
   "execution_count": 27,
   "id": "8530c304-754a-4efc-b848-c653c4622185",
   "metadata": {},
   "outputs": [],
   "source": [
    "df=pd.read_csv(\"./dataset/SAT-GPA.csv\")\n"
   ]
  },
  {
   "cell_type": "code",
   "execution_count": 28,
   "id": "62feaf33-848e-4f58-abbe-4d67562709ff",
   "metadata": {},
   "outputs": [
    {
     "data": {
      "text/html": [
       "<div>\n",
       "<style scoped>\n",
       "    .dataframe tbody tr th:only-of-type {\n",
       "        vertical-align: middle;\n",
       "    }\n",
       "\n",
       "    .dataframe tbody tr th {\n",
       "        vertical-align: top;\n",
       "    }\n",
       "\n",
       "    .dataframe thead th {\n",
       "        text-align: right;\n",
       "    }\n",
       "</style>\n",
       "<table border=\"1\" class=\"dataframe\">\n",
       "  <thead>\n",
       "    <tr style=\"text-align: right;\">\n",
       "      <th></th>\n",
       "      <th>SAT</th>\n",
       "      <th>GPA</th>\n",
       "    </tr>\n",
       "  </thead>\n",
       "  <tbody>\n",
       "    <tr>\n",
       "      <th>0</th>\n",
       "      <td>1714</td>\n",
       "      <td>2.40</td>\n",
       "    </tr>\n",
       "    <tr>\n",
       "      <th>1</th>\n",
       "      <td>1664</td>\n",
       "      <td>2.52</td>\n",
       "    </tr>\n",
       "    <tr>\n",
       "      <th>2</th>\n",
       "      <td>1760</td>\n",
       "      <td>2.54</td>\n",
       "    </tr>\n",
       "    <tr>\n",
       "      <th>3</th>\n",
       "      <td>1685</td>\n",
       "      <td>2.74</td>\n",
       "    </tr>\n",
       "    <tr>\n",
       "      <th>4</th>\n",
       "      <td>1693</td>\n",
       "      <td>2.83</td>\n",
       "    </tr>\n",
       "  </tbody>\n",
       "</table>\n",
       "</div>"
      ],
      "text/plain": [
       "    SAT   GPA\n",
       "0  1714  2.40\n",
       "1  1664  2.52\n",
       "2  1760  2.54\n",
       "3  1685  2.74\n",
       "4  1693  2.83"
      ]
     },
     "execution_count": 28,
     "metadata": {},
     "output_type": "execute_result"
    }
   ],
   "source": [
    "df.head()"
   ]
  },
  {
   "cell_type": "code",
   "execution_count": 42,
   "id": "dbe85cf9-61e1-4218-9483-4f83e3138f0c",
   "metadata": {},
   "outputs": [],
   "source": [
    "X=df[['SAT']]\n",
    "y=df['GPA']"
   ]
  },
  {
   "cell_type": "code",
   "execution_count": 36,
   "id": "620d4f43-d436-4c69-9172-01e3c5cd45eb",
   "metadata": {},
   "outputs": [],
   "source": [
    "linear_model=LinearRegression()\n",
    "linear_model.fit(X,y)\n",
    "y_pred_linear=linear_model.predict(X)"
   ]
  },
  {
   "cell_type": "code",
   "execution_count": 37,
   "id": "a45c4f2e-aa47-45cf-a8bd-ca7cd8b048b4",
   "metadata": {},
   "outputs": [
    {
     "name": "stdout",
     "output_type": "stream",
     "text": [
      "\n",
      "Linear Regression Evaluation:\n",
      "Mean Squared Error: 6413.1261289921795\n",
      "R² Score: 0.4060039147967972\n"
     ]
    }
   ],
   "source": [
    "# 4. Evaluations\n",
    "print(\"\\nLinear Regression Evaluation:\")\n",
    "print(\"Mean Squared Error:\", mean_squared_error(y, y_pred_linear))\n",
    "print(\"R² Score:\", r2_score(y, y_pred_linear))"
   ]
  },
  {
   "cell_type": "code",
   "execution_count": 43,
   "id": "f62112be-14e7-4e84-b98b-6ac3212991dd",
   "metadata": {},
   "outputs": [],
   "source": [
    "poly=PolynomialFeatures(degree=2)\n",
    "X_poly=poly.fit_transform(X)\n",
    "\n",
    "poly_model=LinearRegression()\n",
    "poly_model.fit(X_poly,y)\n",
    "y_pred=poly_model.predict(X_poly)"
   ]
  },
  {
   "cell_type": "code",
   "execution_count": 44,
   "id": "e06c2e1c-6342-4e83-84cb-7aa026bd0c75",
   "metadata": {},
   "outputs": [
    {
     "name": "stdout",
     "output_type": "stream",
     "text": [
      "\n",
      "Polynomial Regression Evaluation:\n",
      "Mean Squared Error: 0.042647877103545805\n",
      "R² Score: 0.4149615470824636\n"
     ]
    }
   ],
   "source": [
    "print(\"\\nPolynomial Regression Evaluation:\")\n",
    "print(\"Mean Squared Error:\", mean_squared_error(y, y_pred))\n",
    "print(\"R² Score:\", r2_score(y, y_pred))\n"
   ]
  },
  {
   "cell_type": "code",
   "execution_count": 47,
   "id": "fed1f4ac-aa4b-4366-8722-adce2eb30e75",
   "metadata": {},
   "outputs": [
    {
     "data": {
      "image/png": "[encoded data removed]",
      "text/plain": [
       "<Figure size 640x480 with 1 Axes>"
      ]
     },
     "metadata": {},
     "output_type": "display_data"
    }
   ],
   "source": [
    "plt.scatter(X,y,color='blue',label='Action')\n",
    "sorted_zip=sorted(zip(X['SAT'],y_pred))\n",
    "x_sorted,y_sorted=zip(*sorted_zip)\n",
    "\n",
    "plt.plot(x_sorted,y_sorted,color='red')\n",
    "\n",
    "plt.xlabel('SAT')\n",
    "plt.ylabel('GPA')\n",
    "plt.legend()\n",
    "plt.title(\"Ploynimal Regression\")\n",
    "plt.show()"
   ]
  },
  {
   "cell_type": "code",
   "execution_count": null,
   "id": "39f52bbf-ddb9-4519-87ed-353f20e20c36",
   "metadata": {},
   "outputs": [],
   "source": []
  },
  {
   "cell_type": "code",
   "execution_count": null,
   "id": "88d6d476-834a-4103-8a48-2ee8f08151c8",
   "metadata": {},
   "outputs": [],
   "source": []
  }
 ],
 "metadata": {
  "kernelspec": {
   "display_name": "Python 3 (ipykernel)",
   "language": "python",
   "name": "python3"
  },
  "language_info": {
   "codemirror_mode": {
    "name": "ipython",
    "version": 3
   },
   "file_extension": ".py",
   "mimetype": "text/x-python",
   "name": "python",
   "nbconvert_exporter": "python",
   "pygments_lexer": "ipython3",
   "version": "3.13.2"
  }
 },
 "nbformat": 4,
 "nbformat_minor": 5
}
