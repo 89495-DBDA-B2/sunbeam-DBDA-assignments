{
 "cells": [
  {
   "cell_type": "code",
   "execution_count": 3,
   "id": "7d4775d6-f23b-4553-945d-b14450964da7",
   "metadata": {},
   "outputs": [],
   "source": [
    "import pandas as pd"
   ]
  },
  {
   "cell_type": "code",
   "execution_count": 4,
   "id": "932dd757-5aa1-4d8c-afee-11af247b9006",
   "metadata": {},
   "outputs": [],
   "source": [
    "empids=[101,102,103,104,105,106,107,108,109,110]\n",
    "names=['aniket','Omkar','Rahul','Ashu','Avinash','Raj','Abhi','Annu','Shivansh','Om']"
   ]
  },
  {
   "cell_type": "code",
   "execution_count": 5,
   "id": "db4639c4-31ac-4909-8575-2f6c95232818",
   "metadata": {},
   "outputs": [],
   "source": [
    "empid_series=pd.Series(empids,name=\"EmpID\")\n",
    "name_series=pd.Series(names,name=\"Name\")"
   ]
  },
  {
   "cell_type": "code",
   "execution_count": 7,
   "id": "c6789078-ebdf-4615-a1df-7b6286e817e0",
   "metadata": {},
   "outputs": [
    {
     "name": "stdout",
     "output_type": "stream",
     "text": [
      "0      aniket\n",
      "1       Omkar\n",
      "2       Rahul\n",
      "3        Ashu\n",
      "4     Avinash\n",
      "5         Raj\n",
      "6        Abhi\n",
      "7        Annu\n",
      "8    Shivansh\n",
      "9          Om\n",
      "Name: Name, dtype: object\n"
     ]
    }
   ],
   "source": [
    "print(name_series)"
   ]
  },
  {
   "cell_type": "code",
   "execution_count": 12,
   "id": "ff24de42-8cc0-44fc-9de6-02bd1e3eba89",
   "metadata": {},
   "outputs": [],
   "source": [
    "df=pd.DataFrame({'EmpId':empid_series,'Name': name_series})"
   ]
  },
  {
   "cell_type": "code",
   "execution_count": 13,
   "id": "a2d7a064-8e13-42c4-94e8-b3267b5b25b5",
   "metadata": {},
   "outputs": [
    {
     "name": "stdout",
     "output_type": "stream",
     "text": [
      "   EmpId      Name\n",
      "0    101    aniket\n",
      "1    102     Omkar\n",
      "2    103     Rahul\n",
      "3    104      Ashu\n",
      "4    105   Avinash\n",
      "5    106       Raj\n",
      "6    107      Abhi\n",
      "7    108      Annu\n",
      "8    109  Shivansh\n",
      "9    110        Om\n"
     ]
    }
   ],
   "source": [
    "print(df)"
   ]
  },
  {
   "cell_type": "code",
   "execution_count": 14,
   "id": "9f233c56-db36-48e6-a0db-d2c899622d9a",
   "metadata": {},
   "outputs": [
    {
     "data": {
      "text/html": [
       "<div>\n",
       "<style scoped>\n",
       "    .dataframe tbody tr th:only-of-type {\n",
       "        vertical-align: middle;\n",
       "    }\n",
       "\n",
       "    .dataframe tbody tr th {\n",
       "        vertical-align: top;\n",
       "    }\n",
       "\n",
       "    .dataframe thead th {\n",
       "        text-align: right;\n",
       "    }\n",
       "</style>\n",
       "<table border=\"1\" class=\"dataframe\">\n",
       "  <thead>\n",
       "    <tr style=\"text-align: right;\">\n",
       "      <th></th>\n",
       "      <th>EmpId</th>\n",
       "      <th>Name</th>\n",
       "    </tr>\n",
       "  </thead>\n",
       "  <tbody>\n",
       "    <tr>\n",
       "      <th>0</th>\n",
       "      <td>101</td>\n",
       "      <td>aniket</td>\n",
       "    </tr>\n",
       "    <tr>\n",
       "      <th>1</th>\n",
       "      <td>102</td>\n",
       "      <td>Omkar</td>\n",
       "    </tr>\n",
       "    <tr>\n",
       "      <th>2</th>\n",
       "      <td>103</td>\n",
       "      <td>Rahul</td>\n",
       "    </tr>\n",
       "    <tr>\n",
       "      <th>3</th>\n",
       "      <td>104</td>\n",
       "      <td>Ashu</td>\n",
       "    </tr>\n",
       "    <tr>\n",
       "      <th>4</th>\n",
       "      <td>105</td>\n",
       "      <td>Avinash</td>\n",
       "    </tr>\n",
       "  </tbody>\n",
       "</table>\n",
       "</div>"
      ],
      "text/plain": [
       "   EmpId     Name\n",
       "0    101   aniket\n",
       "1    102    Omkar\n",
       "2    103    Rahul\n",
       "3    104     Ashu\n",
       "4    105  Avinash"
      ]
     },
     "execution_count": 14,
     "metadata": {},
     "output_type": "execute_result"
    }
   ],
   "source": [
    "df.head()"
   ]
  },
  {
   "cell_type": "code",
   "execution_count": 15,
   "id": "68057793-7bb2-44cf-b8cb-2ae527ab1513",
   "metadata": {},
   "outputs": [
    {
     "data": {
      "text/html": [
       "<div>\n",
       "<style scoped>\n",
       "    .dataframe tbody tr th:only-of-type {\n",
       "        vertical-align: middle;\n",
       "    }\n",
       "\n",
       "    .dataframe tbody tr th {\n",
       "        vertical-align: top;\n",
       "    }\n",
       "\n",
       "    .dataframe thead th {\n",
       "        text-align: right;\n",
       "    }\n",
       "</style>\n",
       "<table border=\"1\" class=\"dataframe\">\n",
       "  <thead>\n",
       "    <tr style=\"text-align: right;\">\n",
       "      <th></th>\n",
       "      <th>EmpId</th>\n",
       "      <th>Name</th>\n",
       "    </tr>\n",
       "  </thead>\n",
       "  <tbody>\n",
       "    <tr>\n",
       "      <th>5</th>\n",
       "      <td>106</td>\n",
       "      <td>Raj</td>\n",
       "    </tr>\n",
       "    <tr>\n",
       "      <th>6</th>\n",
       "      <td>107</td>\n",
       "      <td>Abhi</td>\n",
       "    </tr>\n",
       "    <tr>\n",
       "      <th>7</th>\n",
       "      <td>108</td>\n",
       "      <td>Annu</td>\n",
       "    </tr>\n",
       "    <tr>\n",
       "      <th>8</th>\n",
       "      <td>109</td>\n",
       "      <td>Shivansh</td>\n",
       "    </tr>\n",
       "    <tr>\n",
       "      <th>9</th>\n",
       "      <td>110</td>\n",
       "      <td>Om</td>\n",
       "    </tr>\n",
       "  </tbody>\n",
       "</table>\n",
       "</div>"
      ],
      "text/plain": [
       "   EmpId      Name\n",
       "5    106       Raj\n",
       "6    107      Abhi\n",
       "7    108      Annu\n",
       "8    109  Shivansh\n",
       "9    110        Om"
      ]
     },
     "execution_count": 15,
     "metadata": {},
     "output_type": "execute_result"
    }
   ],
   "source": [
    "df.tail()"
   ]
  },
  {
   "cell_type": "code",
   "execution_count": 16,
   "id": "547df3ff-94ab-41cf-9ae4-894b1a283257",
   "metadata": {},
   "outputs": [],
   "source": [
    "df.to_csv('MRecord.csv', index=False)"
   ]
  }
 ],
 "metadata": {
  "kernelspec": {
   "display_name": "Python 3 (ipykernel)",
   "language": "python",
   "name": "python3"
  },
  "language_info": {
   "codemirror_mode": {
    "name": "ipython",
    "version": 3
   },
   "file_extension": ".py",
   "mimetype": "text/x-python",
   "name": "python",
   "nbconvert_exporter": "python",
   "pygments_lexer": "ipython3",
   "version": "3.13.2"
  }
 },
 "nbformat": 4,
 "nbformat_minor": 5
}
